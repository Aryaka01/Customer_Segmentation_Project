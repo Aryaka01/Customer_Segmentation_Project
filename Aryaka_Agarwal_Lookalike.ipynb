{
  "nbformat": 4,
  "nbformat_minor": 0,
  "metadata": {
    "colab": {
      "provenance": []
    },
    "kernelspec": {
      "name": "python3",
      "display_name": "Python 3"
    },
    "language_info": {
      "name": "python"
    }
  },
  "cells": [
    {
      "cell_type": "code",
      "execution_count": 69,
      "metadata": {
        "id": "3sWBIj8PoRnv"
      },
      "outputs": [],
      "source": [
        "import pandas as pd\n",
        "from sklearn.metrics.pairwise import cosine_similarity\n",
        "from sklearn.preprocessing import StandardScaler, OneHotEncoder\n",
        "import numpy as np\n",
        "from google.colab import files"
      ]
    },
    {
      "cell_type": "code",
      "source": [
        "customers = pd.read_csv('https://drive.google.com/uc?id=1bu_--mo79VdUG9oin4ybfFGRUSXAe-WE')\n",
        "products = pd.read_csv('https://drive.google.com/uc?id=1IKuDizVapw-hyktwfpoAoaGtHtTNHfd0')\n",
        "transactions = pd.read_csv('https://drive.google.com/uc?id=1saEqdbBB-vuk2hxoAf4TzDEsykdKlzbF')"
      ],
      "metadata": {
        "id": "Vfup-5s8ohTw"
      },
      "execution_count": 70,
      "outputs": []
    },
    {
      "cell_type": "code",
      "source": [
        "# Convert date columns\n",
        "customers['SignupDate'] = pd.to_datetime(customers['SignupDate'])\n",
        "transactions['TransactionDate'] = pd.to_datetime(transactions['TransactionDate'])"
      ],
      "metadata": {
        "id": "IFBjttvfoj0e"
      },
      "execution_count": 71,
      "outputs": []
    },
    {
      "cell_type": "code",
      "source": [
        "#Merge Datasets\n",
        "merged_data = transactions.merge(customers, on='CustomerID').merge(products, on='ProductID')"
      ],
      "metadata": {
        "id": "-86M9dWZorPJ"
      },
      "execution_count": 72,
      "outputs": []
    },
    {
      "cell_type": "code",
      "source": [
        "# Feature Engineering\n",
        "# Customer Lifetime Value (CLV)\n",
        "customer_clv = merged_data.groupby('CustomerID')['TotalValue'].sum().reset_index()\n",
        "customer_clv.rename(columns={'TotalValue': 'CLV'}, inplace=True)\n"
      ],
      "metadata": {
        "id": "F05odNPDouCk"
      },
      "execution_count": 73,
      "outputs": []
    },
    {
      "cell_type": "code",
      "source": [
        "# Calculate Average Purchase Frequency per Customer\n",
        "avg_purchase_freq = merged_data.groupby('CustomerID').size().reset_index(name='AvgPurchaseFrequency')"
      ],
      "metadata": {
        "id": "3G-dkXdPozSH"
      },
      "execution_count": 74,
      "outputs": []
    },
    {
      "cell_type": "code",
      "source": [
        "# One-Hot Encode Product Categories\n",
        "category_encoded_df = pd.get_dummies(merged_data.pivot_table(index='CustomerID',\n",
        "                                                             columns='Category',\n",
        "                                                             values='Quantity',\n",
        "                                                             aggfunc='sum',\n",
        "                                                             fill_value=0))\n"
      ],
      "metadata": {
        "id": "gTZSi4OPo2Vq"
      },
      "execution_count": 75,
      "outputs": []
    },
    {
      "cell_type": "code",
      "source": [
        "# One-Hot Encode Regions\n",
        "region_encoded_df = pd.get_dummies(customers.set_index('CustomerID')['Region'], prefix='Region')\n"
      ],
      "metadata": {
        "id": "bRLmBlylo6hc"
      },
      "execution_count": 76,
      "outputs": []
    },
    {
      "cell_type": "code",
      "source": [
        "# Combine Features\n",
        "customer_features = pd.concat([customer_clv.set_index('CustomerID'),\n",
        "                                avg_purchase_freq.set_index('CustomerID'),\n",
        "                                category_encoded_df,\n",
        "                                region_encoded_df], axis=1)"
      ],
      "metadata": {
        "id": "RDiXPBIXyqC5"
      },
      "execution_count": 77,
      "outputs": []
    },
    {
      "cell_type": "code",
      "source": [
        "# Handle Missing Values\n",
        "customer_features.fillna(0, inplace=True)\n"
      ],
      "metadata": {
        "id": "hI5qknsNpcQ1"
      },
      "execution_count": 78,
      "outputs": []
    },
    {
      "cell_type": "code",
      "source": [
        "#Scale Numerical Features\n",
        "numerical_columns = ['CLV', 'AvgPurchaseFrequency']\n",
        "scaler = StandardScaler()\n",
        "customer_features[numerical_columns] = scaler.fit_transform(customer_features[numerical_columns])"
      ],
      "metadata": {
        "id": "X0ackS54yx5i"
      },
      "execution_count": 79,
      "outputs": []
    },
    {
      "cell_type": "code",
      "source": [
        "#Similarity Calculation\n",
        "features_for_similarity = numerical_columns + list(category_encoded_df.columns) + list(region_encoded_df.columns)\n",
        "similarity_matrix = cosine_similarity(customer_features[features_for_similarity])"
      ],
      "metadata": {
        "id": "2G8EbThxy1-U"
      },
      "execution_count": 80,
      "outputs": []
    },
    {
      "cell_type": "code",
      "source": [
        "#Find Lookalikes\n",
        "def find_top_lookalikes(customer_id, similarity_matrix, customer_ids, top_n=3):\n",
        "    customer_index = customer_ids.index(customer_id)\n",
        "    similarity_scores = list(enumerate(similarity_matrix[customer_index]))\n",
        "    sorted_scores = sorted(similarity_scores, key=lambda x: x[1], reverse=True)\n",
        "    top_lookalikes = [(customer_ids[i], round(score, 2)) for i, score in sorted_scores[1:top_n+1]]\n",
        "    return top_lookalikes\n"
      ],
      "metadata": {
        "id": "odbzzJIDy75i"
      },
      "execution_count": 81,
      "outputs": []
    },
    {
      "cell_type": "code",
      "source": [
        "# Generate Lookalikes for First 20 Customers\n",
        "customer_ids = customer_features.index.tolist()\n",
        "lookalike_data = {}\n",
        "for customer_id in customer_ids[:20]:  # First 20 customers\n",
        "    lookalike_data[customer_id] = find_top_lookalikes(customer_id, similarity_matrix, customer_ids)"
      ],
      "metadata": {
        "id": "4UJeiAkxzAH-"
      },
      "execution_count": 82,
      "outputs": []
    },
    {
      "cell_type": "code",
      "source": [
        "#Save Lookalike Recommendations to CSV\n",
        "lookalike_df = pd.DataFrame({\n",
        "    'CustomerID': lookalike_data.keys(),\n",
        "    'SimilarCustomers': [str(val) for val in lookalike_data.values()]\n",
        "})\n",
        "lookalike_df.to_csv('Lookalike.csv', index=False)\n",
        "print(\"Lookalike recommendations saved to Aryaka_Agarwal_Lookalike.csv.\")"
      ],
      "metadata": {
        "colab": {
          "base_uri": "https://localhost:8080/"
        },
        "id": "isiH2m56zOXf",
        "outputId": "0a008086-7c91-4fec-9cd4-0b6a98aed025"
      },
      "execution_count": 83,
      "outputs": [
        {
          "output_type": "stream",
          "name": "stdout",
          "text": [
            "Lookalike recommendations saved to Aryaka_Agarwal_Lookalike.csv.\n"
          ]
        }
      ]
    },
    {
      "cell_type": "code",
      "source": [
        "# Save Lookalike Recommendations to CSV\n",
        "lookalike_df.to_csv('Aryaka_Agarwal_Lookalike.csv', index=False)\n",
        "print(\"Lookalike recommendations saved to Aryaka_Agarwal_Lookalike.csv.\")\n",
        "\n",
        "# Provide a download link for the file\n",
        "from google.colab import files\n",
        "files.download('Aryaka_Agarwal_Lookalike.csv')\n"
      ],
      "metadata": {
        "colab": {
          "base_uri": "https://localhost:8080/",
          "height": 35
        },
        "id": "sTyWdedE0Yr1",
        "outputId": "6a7e40d0-85c0-4396-bffd-f341316685c1"
      },
      "execution_count": 84,
      "outputs": [
        {
          "output_type": "stream",
          "name": "stdout",
          "text": [
            "Lookalike recommendations saved to Aryaka_Agarwal_Lookalike.csv.\n"
          ]
        },
        {
          "output_type": "display_data",
          "data": {
            "text/plain": [
              "<IPython.core.display.Javascript object>"
            ],
            "application/javascript": [
              "\n",
              "    async function download(id, filename, size) {\n",
              "      if (!google.colab.kernel.accessAllowed) {\n",
              "        return;\n",
              "      }\n",
              "      const div = document.createElement('div');\n",
              "      const label = document.createElement('label');\n",
              "      label.textContent = `Downloading \"${filename}\": `;\n",
              "      div.appendChild(label);\n",
              "      const progress = document.createElement('progress');\n",
              "      progress.max = size;\n",
              "      div.appendChild(progress);\n",
              "      document.body.appendChild(div);\n",
              "\n",
              "      const buffers = [];\n",
              "      let downloaded = 0;\n",
              "\n",
              "      const channel = await google.colab.kernel.comms.open(id);\n",
              "      // Send a message to notify the kernel that we're ready.\n",
              "      channel.send({})\n",
              "\n",
              "      for await (const message of channel.messages) {\n",
              "        // Send a message to notify the kernel that we're ready.\n",
              "        channel.send({})\n",
              "        if (message.buffers) {\n",
              "          for (const buffer of message.buffers) {\n",
              "            buffers.push(buffer);\n",
              "            downloaded += buffer.byteLength;\n",
              "            progress.value = downloaded;\n",
              "          }\n",
              "        }\n",
              "      }\n",
              "      const blob = new Blob(buffers, {type: 'application/binary'});\n",
              "      const a = document.createElement('a');\n",
              "      a.href = window.URL.createObjectURL(blob);\n",
              "      a.download = filename;\n",
              "      div.appendChild(a);\n",
              "      a.click();\n",
              "      div.remove();\n",
              "    }\n",
              "  "
            ]
          },
          "metadata": {}
        },
        {
          "output_type": "display_data",
          "data": {
            "text/plain": [
              "<IPython.core.display.Javascript object>"
            ],
            "application/javascript": [
              "download(\"download_7ad870b9-fc03-48c1-a5e2-6191be968cb0\", \"Aryaka_Agarwal_Lookalike.csv\", 1225)"
            ]
          },
          "metadata": {}
        }
      ]
    }
  ]
}